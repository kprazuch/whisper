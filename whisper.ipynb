{
 "cells": [
  {
   "cell_type": "code",
   "execution_count": 17,
   "metadata": {},
   "outputs": [],
   "source": [
    "import whisper\n",
    "model = whisper.load_model(\"base\")"
   ]
  },
  {
   "cell_type": "code",
   "execution_count": 5,
   "metadata": {},
   "outputs": [
    {
     "name": "stdout",
     "output_type": "stream",
     "text": [
      " Zero.\n"
     ]
    }
   ],
   "source": [
    "result = model.transcribe(\"data/0_01_0.wav\")\n",
    "print(result[\"text\"])"
   ]
  },
  {
   "cell_type": "code",
   "execution_count": 6,
   "metadata": {},
   "outputs": [
    {
     "name": "stdout",
     "output_type": "stream",
     "text": [
      " 3\n"
     ]
    }
   ],
   "source": [
    "result = model.transcribe(\"data/3_01_45.wav\")\n",
    "print(result[\"text\"])"
   ]
  },
  {
   "attachments": {},
   "cell_type": "markdown",
   "metadata": {},
   "source": [
    "### Azure SLAs Video"
   ]
  },
  {
   "attachments": {},
   "cell_type": "markdown",
   "metadata": {},
   "source": [
    "https://learn.microsoft.com/en-us/training/modules/describe-benefits-use-cloud-services/2-high-availability-scalability-cloud"
   ]
  },
  {
   "cell_type": "code",
   "execution_count": 7,
   "metadata": {},
   "outputs": [
    {
     "name": "stderr",
     "output_type": "stream",
     "text": [
      "c:\\Users\\KPRAZUCH\\Documents\\whisper\\.venv\\lib\\site-packages\\whisper\\transcribe.py:114: UserWarning: FP16 is not supported on CPU; using FP32 instead\n",
      "  warnings.warn(\"FP16 is not supported on CPU; using FP32 instead\")\n"
     ]
    },
    {
     "name": "stdout",
     "output_type": "stream",
     "text": [
      " A service level agreement or SLA is a standard industry term. It's the formal agreement between a service provider and customer that guarantees the customer a stated level of service. The service provider may be a commercial company providing the service, like Microsoft, when you use Azure services. But SLAs are also used inside organizations, and an agreement between the IT department and the business users. Let's look at what SLAs mean for Azure. Azure service level agreements are represented as a percentage, related to the service or applications availability. This availability is also known as uptime. If the service was always available to use, you'd say it was 100% available, or it had 100% uptime. And SLA also commonly includes details like what is defined as downtime when the service is unavailable, and any credit you may be entitled to if the SLA is not met. In reality, 100% uptime is difficult and expensive to achieve, because it allows no time for taking the service down for required maintenance or upgrades. It would also require duplicating every single component in case one component failed, and would require those backup components to pick up the service tasks with zero interruption to the customer. For these reasons, SLAs of 99% 99.9% and 99.95% are more common. 99.99% is also available in some services in Azure. Is there a big difference in a service that's 99% available? Versus one that's 99.9% available? Yes! A service with a 99% SLA percentage can be unavailable for up to 1.6 hours per week or 7.2 hours per month and still be 99% available. That time is cumulative, which means it can be added up over multiple incidents of the service being unavailable. A service with a 99.9 SLA percentage can be unavailable for only 10 minutes per week or 43.2 minutes per month. That's clearly a big difference. If the service is critical to your business, minutes versus hours of downtime can make a big difference, but highly available services do come at an extra cost. Each Azure service has its own SLA. Familiarize yourself with them prior to designing any application that runs on Azure to ensure your optimizing availability against your business needs.\n"
     ]
    }
   ],
   "source": [
    "result = model.transcribe(\"data/azure_SLAs.mp4\")\n",
    "print(result[\"text\"])"
   ]
  },
  {
   "cell_type": "code",
   "execution_count": 9,
   "metadata": {},
   "outputs": [],
   "source": [
    "transcript = \"\"\"A service level agreement, or SLA,\n",
    "is a standard industry term.\n",
    "It's the formal agreement\n",
    "between a service provider and customer\n",
    "that guarantees the customer\n",
    "a stated level of service.\n",
    "The service provider\n",
    "may be a commercial company\n",
    "providing the service,\n",
    "like Microsoft, when\n",
    "you use Azure services.\n",
    "But SLAs are also used\n",
    "inside organizations,\n",
    "in an agreement between the IT department\n",
    "and the business users.\n",
    "Let's look at what SLAs mean for Azure.\n",
    "Azure service level agreements\n",
    "are represented as a percentage,\n",
    "related to the service or\n",
    "application's availability.\n",
    "This availability is\n",
    "also known as \"up time\".\n",
    "If the service was\n",
    "always available to use,\n",
    "you'd say it was 100% available\n",
    "or it had 100% up time.\n",
    "\n",
    "An SLA also commonly includes details\n",
    "like what is defined as down time,\n",
    "when the service is unavailable,\n",
    "and any credit you may be\n",
    "entitled to if the SLA is not met.\n",
    "In reality, 100% up time is difficult\n",
    "and expensive to achieve,\n",
    "because it allows no time\n",
    "for taking the service down\n",
    "for required maintenance or upgrades.\n",
    "It would also require duplicating\n",
    "every single component\n",
    "in case one component failed\n",
    "and would require those backup components\n",
    "to pick up the service tasks\n",
    "with zero interruption to the customer.\n",
    "For these reasons, SLAs of 99%, 99.9%,\n",
    "and 99.95% are more common.\n",
    "99.99% is also available\n",
    "in some services in Azure.\n",
    "\n",
    "Is there a big difference in\n",
    "a service that's 99% available\n",
    "versus one that's 99.9% available?\n",
    "Yes! A service with a 99% SLA percentage\n",
    "can be unavailable for\n",
    "up to 1.6 hours per week\n",
    "or 7.2 hours per month,\n",
    "and still be 99% available.\n",
    "That time is cumulative,\n",
    "which means it can be added\n",
    "up over multiple incidents\n",
    "of the service being unavailable.\n",
    "A service with the 99.9 SLA percentage\n",
    "can be unavailable for\n",
    "only 10 minutes per week\n",
    "\n",
    "or 43.2 minutes per month.\n",
    "That's clearly a big difference.\n",
    "If the service is critical\n",
    "to your business, minutes\n",
    "versus hours of down time\n",
    "can make a big difference\n",
    "but highly available services\n",
    "do come at an extra cost.\n",
    "Each Azure service has its own SLA.\n",
    "Familiarize yourself with them\n",
    "prior to designing any\n",
    "application that runs on Azure\n",
    "to ensure your optimizing availability\n",
    "against your business needs.\"\"\""
   ]
  },
  {
   "cell_type": "code",
   "execution_count": 10,
   "metadata": {},
   "outputs": [
    {
     "data": {
      "text/plain": [
       "False"
      ]
     },
     "execution_count": 10,
     "metadata": {},
     "output_type": "execute_result"
    }
   ],
   "source": [
    "result['text'] == transcript"
   ]
  },
  {
   "attachments": {},
   "cell_type": "markdown",
   "metadata": {},
   "source": [
    "### It's a Long Way to the Top - AC/DC"
   ]
  },
  {
   "cell_type": "code",
   "execution_count": 16,
   "metadata": {},
   "outputs": [
    {
     "name": "stdout",
     "output_type": "stream",
     "text": [
      " Running on the highway Going to a show Stop with all the byways Playing like a� In a round In a stone In a beat up Or the bow In a hand In a joke I tell you folks It's harder than it looks Long way to the top If you wanna rock and roll It's a long way To the top If you wanna rock and roll If it Make it easy to do what I stand Stop playing like a rock roll It's a long way To the top If you wanna rock and roll It's a long way To the top If you wanna rock and roll It's a long way To the top If you wanna rock And roll And roll Come down, come down Make it wanna climb Make it easy to do what I tell Those are the reason why Getting out Getting rain Getting ripped out Under great Getting so second hand That's how it goes Playing in a band It's a long way To the top If you wanna rock and roll It's a long way To the top If you wanna rock and roll Then you're gonna be Stop saying scream You're out It's rough and mean It's a long way To the top If you wanna rock and roll It's a long way To the top If you wanna rock and roll But it's a long way It's a long way It's a long way It's a long way It's a long way It's a long way It's a long way It's a long way It's a long way It's a long way It's a long way It's a long way It's a long way It's a long way\n"
     ]
    }
   ],
   "source": [
    "result = model.transcribe(\"data/acdc_long_way_to_the_top.mp3\")\n",
    "print(result[\"text\"])"
   ]
  },
  {
   "attachments": {},
   "cell_type": "markdown",
   "metadata": {},
   "source": [
    "### Dégénérations - Mes Aïeux"
   ]
  },
  {
   "cell_type": "code",
   "execution_count": 18,
   "metadata": {},
   "outputs": [
    {
     "name": "stdout",
     "output_type": "stream",
     "text": [
      " ... Ton arrière arrière, grand-père, il a défricher la terre Ton arrière grand-père, il a labourré la terre Et puis ton grand-père a rentabilisé la terre Et puis ton père, il a vendu pour devenir fonctionnaire Et puis toi, mon petit gâte, tu sais plus que tu vas faire Dans ton petit trou et puis ben trop cher, frête dans l'hiver Il te vient des envies de devenir propriétaire Et tu rêves la nuit D'avoir ton petit lopenteur Ton arrière arrière, grand-père, il a eu 14 ans Ton arrière grand-père, on a eu quasiment autant Et puis ton grand-père, on a eu le droit, c'était suffisant Et ton mère, on voulait pas, toi, tu étais un accident Et puis toi, ma petite fille, tu change de partenaires tout le temps Quand tu fais des conneries, tu te tenses au vent d'avortant Mais il y a des matins, tu te réveilles en pleurant Quand tu rêves la nuit D'une grande table entourée d'enfant Ton arrière arrière, grand-père, on a eu la grosse mise à air Ton arrière grand-père, il ramasse à l'issent de neuf Et puis ton grand-père, il ramque les deux vnus milionnaires Ton père, on a eu l'été, lop, tout mis dans ses réactes Et puis toi, tu te james, tu dres ton cul au ministère Pour moi, y'a une avoir un prédan, une institution bancaire Pour quelles mettes et envies le rôle d'appeler la quesière Tu dis des livres qui partent Tu s'infligisuites valentaires Des arrières arrière grand-père, ils savent comme on fait des Des arrières grand-père, on s'assouigne à fort dans les veillés Et puis des grands parents ont connu les poquets Et du parents, tu dis pour se faire un truc de ce sort de trépe Et puis toi, mon ami, qu'est-ce que tu fais de ta soirée Et t'es dans ta tibie, faut pas rester en cabanée Heureusement que dans lui, certaines choses refuse de changer En fil des plus vos amis Quand nous allons ce soir vencer\n"
     ]
    }
   ],
   "source": [
    "result = model.transcribe(\"data/mes_aieux_degenerations.mp3\")\n",
    "print(result[\"text\"])"
   ]
  }
 ],
 "metadata": {
  "kernelspec": {
   "display_name": ".venv",
   "language": "python",
   "name": "python3"
  },
  "language_info": {
   "codemirror_mode": {
    "name": "ipython",
    "version": 3
   },
   "file_extension": ".py",
   "mimetype": "text/x-python",
   "name": "python",
   "nbconvert_exporter": "python",
   "pygments_lexer": "ipython3",
   "version": "3.10.4"
  },
  "orig_nbformat": 4
 },
 "nbformat": 4,
 "nbformat_minor": 2
}
