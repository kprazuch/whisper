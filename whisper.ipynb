{
 "cells": [
  {
   "cell_type": "code",
   "execution_count": 1,
   "metadata": {},
   "outputs": [],
   "source": [
    "import whisper\n",
    "model = whisper.load_model(\"base\")"
   ]
  },
  {
   "cell_type": "code",
   "execution_count": 2,
   "metadata": {},
   "outputs": [
    {
     "name": "stderr",
     "output_type": "stream",
     "text": [
      "c:\\Users\\KPRAZUCH\\Documents\\whisper\\.venv\\lib\\site-packages\\whisper\\transcribe.py:114: UserWarning: FP16 is not supported on CPU; using FP32 instead\n",
      "  warnings.warn(\"FP16 is not supported on CPU; using FP32 instead\")\n"
     ]
    },
    {
     "name": "stdout",
     "output_type": "stream",
     "text": [
      " Zero.\n"
     ]
    }
   ],
   "source": [
    "result = model.transcribe(\"data/0_01_0.wav\")\n",
    "print(result[\"text\"])"
   ]
  },
  {
   "cell_type": "code",
   "execution_count": 3,
   "metadata": {},
   "outputs": [
    {
     "name": "stdout",
     "output_type": "stream",
     "text": [
      " 3\n"
     ]
    }
   ],
   "source": [
    "result = model.transcribe(\"data/3_01_45.wav\")\n",
    "print(result[\"text\"])"
   ]
  },
  {
   "attachments": {},
   "cell_type": "markdown",
   "metadata": {},
   "source": [
    "### Azure SLAs Video"
   ]
  },
  {
   "attachments": {},
   "cell_type": "markdown",
   "metadata": {},
   "source": [
    "https://learn.microsoft.com/en-us/training/modules/describe-benefits-use-cloud-services/2-high-availability-scalability-cloud"
   ]
  },
  {
   "cell_type": "code",
   "execution_count": 5,
   "metadata": {},
   "outputs": [
    {
     "data": {
      "text/plain": [
       "\" A service level agreement or SLA is a standard industry term. It's the formal agreement between a service provider and customer that guarantees the customer a stated level of service. The service provider may be a commercial company providing the service, like Microsoft, when you use Azure services. But SLAs are also used inside organizations, and an agreement between the IT department and the business users. Let's look at what SLAs mean for Azure. Azure service level agreements are represented as a percentage, related to the service or applications availability. This availability is also known as uptime. If the service was always available to use, you'd say it was 100% available, or it had 100% uptime. And SLA also commonly includes details like what is defined as downtime when the service is unavailable, and any credit you may be entitled to if the SLA is not met. In reality, 100% uptime is difficult and expensive to achieve, because it allows no time for taking the service down for required maintenance or upgrades. It would also require duplicating every single component in case one component failed, and would require those backup components to pick up the service tasks with zero interruption to the customer. For these reasons, SLAs of 99% 99.9% and 99.95% are more common. 99.99% is also available in some services in Azure. Is there a big difference in a service that's 99% available? Versus one that's 99.9% available? Yes! A service with a 99% SLA percentage can be unavailable for up to 1.6 hours per week or 7.2 hours per month and still be 99% available. That time is cumulative, which means it can be added up over multiple incidents of the service being unavailable. A service with a 99.9 SLA percentage can be unavailable for only 10 minutes per week or 43.2 minutes per month. That's clearly a big difference. If the service is critical to your business, minutes versus hours of downtime can make a big difference, but highly available services do come at an extra cost. Each Azure service has its own SLA. Familiarize yourself with them prior to designing any application that runs on Azure to ensure your optimizing availability against your business needs.\""
      ]
     },
     "execution_count": 5,
     "metadata": {},
     "output_type": "execute_result"
    }
   ],
   "source": [
    "result = model.transcribe(\"data/azure_SLAs.mp4\")\n",
    "print(result[\"text\"])"
   ]
  },
  {
   "cell_type": "code",
   "execution_count": 7,
   "metadata": {},
   "outputs": [],
   "source": [
    "transcript = \"\"\"A service level agreement, or SLA, is a standard industry term.\n",
    "It's the formal agreement between a service provider and customer that guarantees the customer a stated level of service.\n",
    "The service provider may be a commercial company providing the service, like Microsoft, when you use Azure services.\n",
    "But SLAs are also used inside organizations, in an agreement between the IT department and the business users.\n",
    "Let's look at what SLAs mean for Azure. \n",
    "Azure service level agreements are represented as a percentage, related to the service or application's availability.\n",
    "This availability is also known as \"up time\".\n",
    "If the service was always available to use, you'd say it was 100% available or it had 100% up time.\n",
    "\n",
    "An SLA also commonly includes details like what is defined as down time, when the service is unavailable, and any credit you may be entitled to if the SLA is not met.\n",
    "In reality, 100% up time is difficult and expensive to achieve, because it allows no time for taking the service down for required maintenance or upgrades.\n",
    "It would also require duplicating every single component in case one component failed and would require those backup components to pick up the service tasks with zero interruption to the customer.\n",
    "For these reasons, SLAs of 99%, 99.9%, and 99.95% are more common. \n",
    "99.99% is also available in some services in Azure.\n",
    "\n",
    "Is there a big difference in a service that's 99% available versus one that's 99.9% available?\n",
    "Yes! A service with a 99% SLA percentage can be unavailable for up to 1.6 hours per week or 7.2 hours per month, and still be 99% available.\n",
    "That time is cumulative, which means it can be added up over multiple incidents of the service being unavailable.\n",
    "A service with the 99.9 SLA percentage can be unavailable for only 10 minutes per week or 43.2 minutes per month.\n",
    "That's clearly a big difference. \n",
    "If the service is critical to your business, minutes versus hours of down time can make a big difference but highly available services do come at an extra cost.\n",
    "Each Azure service has its own SLA.\n",
    "Familiarize yourself with them prior to designing any application that runs on Azure to ensure your optimizing availability against your business needs.\"\"\""
   ]
  },
  {
   "cell_type": "code",
   "execution_count": null,
   "metadata": {},
   "outputs": [],
   "source": [
    "# errors:\n",
    "# line 4: replaced \"in\" with \"and\"\n",
    "# line 9: replaced \"an\" with \"and\"\n",
    "# general punctuation: adding commas, breaking one sentence into two"
   ]
  },
  {
   "cell_type": "code",
   "execution_count": 8,
   "metadata": {},
   "outputs": [
    {
     "data": {
      "text/plain": [
       "False"
      ]
     },
     "execution_count": 8,
     "metadata": {},
     "output_type": "execute_result"
    }
   ],
   "source": [
    "result['text'] == transcript"
   ]
  },
  {
   "attachments": {},
   "cell_type": "markdown",
   "metadata": {},
   "source": [
    "### It's a Long Way to the Top - AC/DC"
   ]
  },
  {
   "cell_type": "code",
   "execution_count": 9,
   "metadata": {},
   "outputs": [
    {
     "name": "stderr",
     "output_type": "stream",
     "text": [
      "c:\\Users\\KPRAZUCH\\Documents\\whisper\\.venv\\lib\\site-packages\\whisper\\transcribe.py:114: UserWarning: FP16 is not supported on CPU; using FP32 instead\n",
      "  warnings.warn(\"FP16 is not supported on CPU; using FP32 instead\")\n"
     ]
    },
    {
     "name": "stdout",
     "output_type": "stream",
     "text": [
      " Running on the highway Going to a show Stop with all the byways Playing like a� In a round In a stone In a beat up Or the bow In a hand In a joke I tell you folks It's harder than it looks Long way to the top If you wanna rock and roll It's a long way To the top If you wanna rock and roll If it Make it easy to do what I stand Stop playing like a rock roll It's a long way To the top If you wanna rock and roll It's a long way To the top If you wanna rock and roll It's a long way To the top If you wanna rock And roll And roll Come down, come down Make it wanna climb Make it easy to do what I tell Those are the reason why Getting out Getting rain Getting ripped out Under great Getting so second hand That's how it goes Playing in a band It's a long way To the top If you wanna rock and roll It's a long way To the top If you wanna rock and roll And yeah, you're gonna be Stop saying scream You're out It's rough and thin It's a long way To the top If you wanna rock and roll It's a long way To the top If you wanna rock and roll It's a long way It's a long way It's a long way It's a long way It's a long way You\n"
     ]
    }
   ],
   "source": [
    "result = model.transcribe(\"data/acdc_long_way_to_the_top.mp3\")\n",
    "print(result[\"text\"])"
   ]
  },
  {
   "cell_type": "code",
   "execution_count": null,
   "metadata": {},
   "outputs": [],
   "source": [
    "lyrics = \"\"\"Ridin' down the highway\n",
    "Goin' to a show\n",
    "Stop in all the byways\n",
    "Playin' rock 'n' roll\n",
    "Gettin' robbed\n",
    "Gettin' stoned\n",
    "Gettin' beat up\n",
    "Broken-boned\n",
    "Gettin' had\n",
    "Gettin' took\n",
    "I tell you, folks\n",
    "It's harder than it looks\n",
    "It's a long way to the top if you wanna rock 'n' roll\n",
    "It's a long way to the top if you wanna rock 'n' roll\n",
    "If you think it's easy doin' one night stands\n",
    "Try playin' in a rock roll band\n",
    "It's a long way to the top if you wanna rock 'n' roll\n",
    "Hotel, motel\n",
    "Make you wanna cry\n",
    "Ladies do the hard sell\n",
    "Know the reason why\n",
    "Gettin' old\n",
    "Gettin' grey\n",
    "Gettin' ripped off\n",
    "Underpaid\n",
    "Gettin' sold\n",
    "Second hand\n",
    "That's how it goes\n",
    "Playin' in a band\n",
    "It's a long way to the top if you wanna rock 'n' roll\n",
    "It's a long way to the top if you wanna rock 'n' roll\n",
    "If you wanna be a star of stage and screen\n",
    "Look out, it's rough and mean\n",
    "It's a long way to the top if you wanna rock 'n' roll\n",
    "It's a long way to the top if you wanna rock 'n' roll\n",
    "Well it's a long way\n",
    "Well it's a long way, you should've told me\n",
    "It's a long way\n",
    "Such a long way\"\"\""
   ]
  },
  {
   "cell_type": "code",
   "execution_count": null,
   "metadata": {},
   "outputs": [],
   "source": [
    "# errors:\n",
    "# line 1: replaced \"ridin down\" with \"running on\"\n",
    "# line 3: replaced \"in\" with \"with\"\n",
    "# line 4: replaced \"rock n roll\" with \"like a <unknown character>\"\n",
    "# line 5-10: pretty much all wrong\n",
    "# line 13: forgot \"it's a\"\n",
    "# line 15-16: wrong\n",
    "# line 18-26: wrong\n",
    "# line 29-30: wrong"
   ]
  },
  {
   "attachments": {},
   "cell_type": "markdown",
   "metadata": {},
   "source": [
    "### Dégénérations - Mes Aïeux"
   ]
  },
  {
   "cell_type": "code",
   "execution_count": 10,
   "metadata": {},
   "outputs": [
    {
     "name": "stderr",
     "output_type": "stream",
     "text": [
      "c:\\Users\\KPRAZUCH\\Documents\\whisper\\.venv\\lib\\site-packages\\whisper\\transcribe.py:114: UserWarning: FP16 is not supported on CPU; using FP32 instead\n",
      "  warnings.warn(\"FP16 is not supported on CPU; using FP32 instead\")\n"
     ]
    },
    {
     "name": "stdout",
     "output_type": "stream",
     "text": [
      " ... Ton arrière arrière, grand-père, il a défricher la terre Ton arrière grand-père, il a labourré la terre Et puis ton grand-père a rentabilisé la terre Et puis ton père, il a vendu pour devenir fonctionnaire Et puis toi, mon petit gâte, tu sais plus que tu vas faire Dans ton petit trou et puis ben trop cher, frête dans l'hiver Il te vient des envies de devenir propriétaire Et tu rêves la nuit D'avoir ton petit lopenteur Ton arrière arrière, grand-père, il a eu 14 ans Ton arrière grand-père, on a eu quasiment autant Et puis ton grand-père, on a eu le droit, c'était suffisant Et ton mère, on voulait pas, toi, tu étais un accident Et puis toi, ma petite fille, tu change de partenaires tout le temps Quand tu fais des conneries, tu te tenses au vent d'avortant Mais il y a des matins, tu te réveilles en pleurant Quand tu rêves la nuit D'une grande table entourée d'enfant Ton arrière arrière, grand-père, on a eu la grosse mise à air Ton arrière grand-père, il ramasse à l'issent de neuf Et puis ton grand-père, il ramque les deux vnus milionnaires Ton père, on a eu l'été, lop, tout mis dans ses réactes Et puis toi, tu te james, tu dres ton cul au ministère Pour moi, y'a une avoir un prédan, une institution bancaire Pour quelles mettes et envies le rôle d'appeler la quesière Tu dis des livres qui partent Tu s'infligisuites valentaires Des arrières arrière grand-père, ils savent comme on fait des Des arrières grand-père, on s'assouigne à fort dans les veillés Et puis des grands parents ont connu les poquets Et du parents, tu dis pour se faire un truc de ce sort de trépe Et puis toi, mon ami, qu'est-ce que tu fais de ta soirée Et t'es dans ta tibie, faut pas rester en cabanée Heureusement que dans lui, certaines choses refuse de changer En fil des plus vos amis Quand nous allons ce soir vencer\n"
     ]
    }
   ],
   "source": [
    "result = model.transcribe(\"data/mes_aieux_degenerations.mp3\")\n",
    "print(result[\"text\"])"
   ]
  },
  {
   "cell_type": "code",
   "execution_count": null,
   "metadata": {},
   "outputs": [],
   "source": [
    "lyrics = \"\"\"Ton arrière-arrière-grand-père, il a défriché la terre\n",
    "Ton arrière-grand-père, il a labouré la terre\n",
    "Et pis ton grand-père a rentabilisé la terre\n",
    "Pis ton père, il l'a vendue pour devenir fonctionnaire\n",
    "Et pis toi, mon p'tit gars, tu sais pus c'que tu vas faire\n",
    "Dans ton p'tit trois et demi bien trop cher, frette en hiver\n",
    "Il te vient des envies de devenir propriétaire\n",
    "Et tu rêves la nuit d'avoir ton petit lopin de terre\n",
    "Ton arrière-arrière-grand-mère, elle a eu quatorze enfants\n",
    "Ton arrière-grand-mère en a eu quasiment autant\n",
    "Et pis ta grand-mère en a eu trois c'tait suffisant\n",
    "Pis ta mère en voulait pas, toi t'étais un accident\n",
    "Et pis toi, ma p'tite fille, tu changes de partenaire tout l'temps\n",
    "Quand tu fais des conneries, tu t'en sauves en avortant\n",
    "Mais y'a des matins, tu te réveilles en pleurant\n",
    "Quand tu rêves la nuit d'une grande table entourée d'enfants\n",
    "Ton arrière-arrière-grand-père a vécu la grosse misère\n",
    "Ton arrière-grand-père, il ramassait les cennes noires\n",
    "Et pis ton grand-père, miracle, est devenu millionnaire\n",
    "Ton père en a hérité, il l'a tout mis dans ses RÉERs\n",
    "Et pis toi, p'tite jeunesse, tu dois ton cul au ministère\n",
    "Pas moyen d'avoir un prêt dans une institution bancaire\n",
    "Pour calmer tes envies de hold-uper la caissière\n",
    "Tu lis des livres qui parlent de simplicité volontaire\n",
    "Tes arrière-arrière-grands-parents, ils savaient comment fêter\n",
    "Tes arrière-grands-parents, ça swingait fort dans les veillées\n",
    "Pis tes grands-parents ont connu l'époque yé-yé\n",
    "Tes parents, c'tait les discos, c'est là qu'ils se sont rencontrés\n",
    "Et pis toi, mon ami, qu'est-ce que tu fais de ta soirée?\n",
    "Éteins donc ta tivi, faut pas rester encabané\n",
    "Heureusement que dans' vie certaines choses refusent de changer\n",
    "Enfile tes plus beaux habits car nous allons ce soir danser\"\"\""
   ]
  },
  {
   "attachments": {},
   "cell_type": "markdown",
   "metadata": {},
   "source": [
    "### Conversation"
   ]
  },
  {
   "cell_type": "code",
   "execution_count": 11,
   "metadata": {},
   "outputs": [
    {
     "name": "stdout",
     "output_type": "stream",
     "text": [
      " Welcome back everyone. Seth Meyers is joining us today. Thank you for being here, bud. Yeah. During this this this writer's track, you also started another podcast. Yes. I love this one with your brother Josh. Yes. I love it. By the way, give him my best. I will. He used to do stuff with you on the show. On late night? Yes. And yeah, it's called Family Trips with the Meyers Brothers. We had this idea for years and we decided to do this. It was a good time to get it off the ground. Why Family Trips? So we talked to celebrities and we only talked to them about the trips they took when they were kids. And it's really fun because you realize what a great equalizer it is. A very few of the celebrities you know and love had money when they were kids. And it's just a lot. And also for Josh and I, we grew up in the 70s and early 80s. And so many people like us took trips where they were just in the back of a station wagon. No seat belts. Nobody even thought about seat belts. The amount of kids is like, my parents put down a mattress. We had a card table. And we just slide around. Then there's random gamblers back there with the kids. In the family. Strangers you picked up in the pickup dealers. Yeah, go play poker with my kids. Yeah, exactly. But it's fun. And you just realize, especially the more trips go wrong, I feel like the more they enter the family lore and those disaster trips are the ones you talk about for years and years with your family because you survived them and it brought you all closer. And so it's nice talking to people about all those things and how do you got coming up on that podcast? We got Nate Bargazzi. I know a huge name Bargazzi fan right here. Nick Offerman's coming up. John Malaney's coming up. And so it's just a full delight. You're going to do it, right? I'm so in. I can't wait. The podcast, bro, is now you got it. We have to do it. We're podcast, bro. I already got my trip planned out. I can't wait. I have on the gear. Yeah, you do have all the gear. What am I going to do with all this gear? I know. It's very nice. Kimmel is like, if you're doing this podcast, or did this mixer, these headphones, I got this microphone thing. I go, oh my gosh, I don't know what. He gave us like Amazon link. I wanted to talk about, I almost forgot. The best thing about Strike Force 5 is we all, like we all have better as we went. Because the first room, you did the first two episodes in a room and I've never seen Jimmy look hotter. He chose, he chose to, and again, we started in August. There was terrible ventilation. And just it was like watching you melt. Well, I would didn't know what room to do the podcast and nothing was really quiet. And so I went, we have like a guest cottage. So I went to this cottage thing and there was a loud cricket. It was so loud, I go, they're going to think, and I would have to stomp on the floor and then it would be quiet. I go, I can't do this for the whole. Wait, the cricket would be quiet if you stomp. So it was a very, it was a respectful cricket. Trained cricket. Yeah. I don't know why we're wearing that amateur cricket. Yeah. He's famous. You might, Jiminy? Oh, Jiminy? Yeah, yeah, yeah. He's pretty famous. He's been a couple films. Oh my god. Yeah, I know. I don't know how to name drop, but I hang it with cartoons. Well. You don't know me? I was my whole world apart. That was with the Jiminy cricket. Yeah, yeah, yeah. We're old, old, buddy. If you don't want to bring them on the podcast. What is he going to talk about? Pinocchio. Yeah. That's not a hack of a. Well, I need not in the new one. So I went to this room. And with this room, there was no air conditioning. I was just shoved in so I could get out of everyone's way. It was so hot. Yeah. And I go, oh my gosh, we did two episodes. And we were just trying to figure out. So I think it was like four hours. The first day was long. But then here's why I was, I wasn't mad. It was making me laugh. Everything was making me laugh. But because I was like, I got to get out of here. Because I'm going to die. I mean, I'm like, my face is red. I was, so I texted everybody on straight for it. So this is the craziest thing. So Jimmy is talking to four of us on. It's not a live podcast. So anything he says, we could just edit out. I know. I know. I know. But instead, he chooses to text us. Why didn't he be able to read it? So I texted everyone, hey, I'm going to get out of here. And I'm like, wrap it up. Let's go, man. I'm like, who am I supposed to end? And then you know, Colbert. I mean, they're like, hey, I just got a text room, Jimmy. He's got to go. And we're like, what? It'd be like if you were a dinner with one other person, and you texted them, how much longer is this dinner here? Yeah. Oh my god. Totally must have been all that. So you and Oliver are doing stand-up together. Yeah, John Oliver and I, we're going to do New Year's Eve in Las Vegas. Very exciting. That's going to be fun. And I'm also very excited to be doing a fundraising show in New Hampshire and Manchester. That's my home state. It's a fundraiser for a couple of great organizations, Granite State Children Alliance, and Casa. So if you live in the Granite State, come check it out because it's a really special night. You're a good man. We always love it when you stop by. That's my Strike 4-5. But right there, Seth Meyers, everybody, stay tuned. Late night with Seth Meyers, there's week nights, including Wednesday. Right after the tonight show, it's also available on peacock. Stick around. We'll be right back, everybody.\n"
     ]
    }
   ],
   "source": [
    "result = model.transcribe(\"data/jimmy_fallon_seth_meyers.mp3\")\n",
    "print(result[\"text\"])"
   ]
  },
  {
   "attachments": {},
   "cell_type": "markdown",
   "metadata": {},
   "source": [
    "#### Note: No way to differentiate between speakers."
   ]
  }
 ],
 "metadata": {
  "kernelspec": {
   "display_name": ".venv",
   "language": "python",
   "name": "python3"
  },
  "language_info": {
   "codemirror_mode": {
    "name": "ipython",
    "version": 3
   },
   "file_extension": ".py",
   "mimetype": "text/x-python",
   "name": "python",
   "nbconvert_exporter": "python",
   "pygments_lexer": "ipython3",
   "version": "3.10.4"
  },
  "orig_nbformat": 4
 },
 "nbformat": 4,
 "nbformat_minor": 2
}
