{
 "cells": [
  {
   "cell_type": "code",
   "execution_count": 4,
   "metadata": {},
   "outputs": [],
   "source": [
    "import whisper\n",
    "model = whisper.load_model(\"base\")"
   ]
  },
  {
   "cell_type": "code",
   "execution_count": 5,
   "metadata": {},
   "outputs": [
    {
     "name": "stdout",
     "output_type": "stream",
     "text": [
      " Zero.\n"
     ]
    }
   ],
   "source": [
    "result = model.transcribe(\"data/0_01_0.wav\")\n",
    "print(result[\"text\"])"
   ]
  },
  {
   "cell_type": "code",
   "execution_count": 6,
   "metadata": {},
   "outputs": [
    {
     "name": "stdout",
     "output_type": "stream",
     "text": [
      " 3\n"
     ]
    }
   ],
   "source": [
    "result = model.transcribe(\"data/3_01_45.wav\")\n",
    "print(result[\"text\"])"
   ]
  },
  {
   "attachments": {},
   "cell_type": "markdown",
   "metadata": {},
   "source": [
    "### Azure SLAs Video"
   ]
  },
  {
   "attachments": {},
   "cell_type": "markdown",
   "metadata": {},
   "source": [
    "https://learn.microsoft.com/en-us/training/modules/describe-benefits-use-cloud-services/2-high-availability-scalability-cloud"
   ]
  },
  {
   "cell_type": "code",
   "execution_count": 7,
   "metadata": {},
   "outputs": [
    {
     "name": "stderr",
     "output_type": "stream",
     "text": [
      "c:\\Users\\KPRAZUCH\\Documents\\whisper\\.venv\\lib\\site-packages\\whisper\\transcribe.py:114: UserWarning: FP16 is not supported on CPU; using FP32 instead\n",
      "  warnings.warn(\"FP16 is not supported on CPU; using FP32 instead\")\n"
     ]
    },
    {
     "name": "stdout",
     "output_type": "stream",
     "text": [
      " A service level agreement or SLA is a standard industry term. It's the formal agreement between a service provider and customer that guarantees the customer a stated level of service. The service provider may be a commercial company providing the service, like Microsoft, when you use Azure services. But SLAs are also used inside organizations, and an agreement between the IT department and the business users. Let's look at what SLAs mean for Azure. Azure service level agreements are represented as a percentage, related to the service or applications availability. This availability is also known as uptime. If the service was always available to use, you'd say it was 100% available, or it had 100% uptime. And SLA also commonly includes details like what is defined as downtime when the service is unavailable, and any credit you may be entitled to if the SLA is not met. In reality, 100% uptime is difficult and expensive to achieve, because it allows no time for taking the service down for required maintenance or upgrades. It would also require duplicating every single component in case one component failed, and would require those backup components to pick up the service tasks with zero interruption to the customer. For these reasons, SLAs of 99% 99.9% and 99.95% are more common. 99.99% is also available in some services in Azure. Is there a big difference in a service that's 99% available? Versus one that's 99.9% available? Yes! A service with a 99% SLA percentage can be unavailable for up to 1.6 hours per week or 7.2 hours per month and still be 99% available. That time is cumulative, which means it can be added up over multiple incidents of the service being unavailable. A service with a 99.9 SLA percentage can be unavailable for only 10 minutes per week or 43.2 minutes per month. That's clearly a big difference. If the service is critical to your business, minutes versus hours of downtime can make a big difference, but highly available services do come at an extra cost. Each Azure service has its own SLA. Familiarize yourself with them prior to designing any application that runs on Azure to ensure your optimizing availability against your business needs.\n"
     ]
    }
   ],
   "source": [
    "result = model.transcribe(\"data/azure_SLAs.mp4\")\n",
    "print(result[\"text\"])"
   ]
  },
  {
   "cell_type": "code",
   "execution_count": 9,
   "metadata": {},
   "outputs": [],
   "source": [
    "transcript = \"\"\"A service level agreement, or SLA,\n",
    "is a standard industry term.\n",
    "It's the formal agreement\n",
    "between a service provider and customer\n",
    "that guarantees the customer\n",
    "a stated level of service.\n",
    "The service provider\n",
    "may be a commercial company\n",
    "providing the service,\n",
    "like Microsoft, when\n",
    "you use Azure services.\n",
    "But SLAs are also used\n",
    "inside organizations,\n",
    "in an agreement between the IT department\n",
    "and the business users.\n",
    "Let's look at what SLAs mean for Azure.\n",
    "Azure service level agreements\n",
    "are represented as a percentage,\n",
    "related to the service or\n",
    "application's availability.\n",
    "This availability is\n",
    "also known as \"up time\".\n",
    "If the service was\n",
    "always available to use,\n",
    "you'd say it was 100% available\n",
    "or it had 100% up time.\n",
    "\n",
    "An SLA also commonly includes details\n",
    "like what is defined as down time,\n",
    "when the service is unavailable,\n",
    "and any credit you may be\n",
    "entitled to if the SLA is not met.\n",
    "In reality, 100% up time is difficult\n",
    "and expensive to achieve,\n",
    "because it allows no time\n",
    "for taking the service down\n",
    "for required maintenance or upgrades.\n",
    "It would also require duplicating\n",
    "every single component\n",
    "in case one component failed\n",
    "and would require those backup components\n",
    "to pick up the service tasks\n",
    "with zero interruption to the customer.\n",
    "For these reasons, SLAs of 99%, 99.9%,\n",
    "and 99.95% are more common.\n",
    "99.99% is also available\n",
    "in some services in Azure.\n",
    "\n",
    "Is there a big difference in\n",
    "a service that's 99% available\n",
    "versus one that's 99.9% available?\n",
    "Yes! A service with a 99% SLA percentage\n",
    "can be unavailable for\n",
    "up to 1.6 hours per week\n",
    "or 7.2 hours per month,\n",
    "and still be 99% available.\n",
    "That time is cumulative,\n",
    "which means it can be added\n",
    "up over multiple incidents\n",
    "of the service being unavailable.\n",
    "A service with the 99.9 SLA percentage\n",
    "can be unavailable for\n",
    "only 10 minutes per week\n",
    "\n",
    "or 43.2 minutes per month.\n",
    "That's clearly a big difference.\n",
    "If the service is critical\n",
    "to your business, minutes\n",
    "versus hours of down time\n",
    "can make a big difference\n",
    "but highly available services\n",
    "do come at an extra cost.\n",
    "Each Azure service has its own SLA.\n",
    "Familiarize yourself with them\n",
    "prior to designing any\n",
    "application that runs on Azure\n",
    "to ensure your optimizing availability\n",
    "against your business needs.\"\"\""
   ]
  },
  {
   "cell_type": "code",
   "execution_count": 10,
   "metadata": {},
   "outputs": [
    {
     "data": {
      "text/plain": [
       "False"
      ]
     },
     "execution_count": 10,
     "metadata": {},
     "output_type": "execute_result"
    }
   ],
   "source": [
    "result['text'] == transcript"
   ]
  }
 ],
 "metadata": {
  "kernelspec": {
   "display_name": ".venv",
   "language": "python",
   "name": "python3"
  },
  "language_info": {
   "codemirror_mode": {
    "name": "ipython",
    "version": 3
   },
   "file_extension": ".py",
   "mimetype": "text/x-python",
   "name": "python",
   "nbconvert_exporter": "python",
   "pygments_lexer": "ipython3",
   "version": "3.10.4"
  },
  "orig_nbformat": 4
 },
 "nbformat": 4,
 "nbformat_minor": 2
}
